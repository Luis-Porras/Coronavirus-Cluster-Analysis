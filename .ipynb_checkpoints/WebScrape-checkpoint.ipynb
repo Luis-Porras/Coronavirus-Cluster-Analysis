{
 "cells": [
  {
   "cell_type": "code",
   "execution_count": null,
   "metadata": {},
   "outputs": [],
   "source": [
    "from selenium.webdriver.common.action_chains import ActionChains\n",
    "from selenium.webdriver.common.keys import Keys\n",
    "from selenium import webdriver\n",
    "from selenium.webdriver.support.ui import WebDriverWait\n",
    "import time\n",
    "from bs4 import BeautifulSoup as bs\n",
    "import pandas as pd\n",
    "import numpy as np\n",
    "import matplotlib.pyplot as plt\n",
    "import seaborn as sns \n",
    "pd.set_option('display.max_rows', 1000)"
   ]
  },
  {
   "cell_type": "code",
   "execution_count": null,
   "metadata": {},
   "outputs": [],
   "source": []
  },
  {
   "cell_type": "code",
   "execution_count": null,
   "metadata": {},
   "outputs": [],
   "source": [
    "driver_path = '/Users/Luis/Downloads/chromedriver.exe'\n",
    "driver = webdriver.Chrome(driver_path)\n",
    "driver.get('https://www.nytimes.com/interactive/2020/nyregion/new-york-city-coronavirus-cases.html')\n",
    "\n",
    "#sleep timer necessary to load full page\n",
    "time.sleep(7)"
   ]
  },
  {
   "cell_type": "code",
   "execution_count": null,
   "metadata": {},
   "outputs": [],
   "source": []
  },
  {
   "cell_type": "code",
   "execution_count": null,
   "metadata": {},
   "outputs": [],
   "source": [
    "#scroll some distance to remove advertisement\n",
    "driver.execute_script('window.scrollTo(0,2400)')\n",
    "time.sleep(1)\n",
    "\n",
    "#Must expand table for webscrape to retrieve full table. \n",
    "expand_table_button = driver.find_element_by_class_name('expand')\n",
    "expand_table_button.click()\n",
    "\n",
    "#saves page with expanded table for webscraping\n",
    "page = driver.page_source\n",
    "driver.quit()"
   ]
  },
  {
   "cell_type": "code",
   "execution_count": null,
   "metadata": {},
   "outputs": [],
   "source": [
    "soup = bs(page, 'html.parser')"
   ]
  },
  {
   "cell_type": "code",
   "execution_count": null,
   "metadata": {},
   "outputs": [],
   "source": [
    "table = soup.find('table', {'class':\"svelte-19yxb3p\"})\n",
    "table_headers = ['Zip_code','Borough','Neighborhood','Cases','Cases_per_10000','Deaths','Deaths_per_10000']"
   ]
  },
  {
   "cell_type": "code",
   "execution_count": null,
   "metadata": {},
   "outputs": [],
   "source": [
    "#Creates DataFrame from web scraped table\n",
    "ny_cases_df = pd.DataFrame()\n",
    "record_list = []\n",
    "for i in table.find_all('tr')[1:]:\n",
    "    row = i.find_all('td')\n",
    "    \n",
    "    #strips a row's information (zipcode, borough, neighborhood,total_cases,cases_per_1000,deaths,deaths_per_1000)\n",
    "    zipcode = str(row[0].find_all('span')[0].find_all('span')[0]).lstrip('<span class=\"bolder\">').rstrip('</span>')\n",
    "    borough = str(row[0].find_all('span')[0].find_all('span')[1]).lstrip('<span class=\"lighter\">').replace('</span>',\"\")\n",
    "    neighborhood = str(row[0].find_all('span')[0].find_all('span')[2]).lstrip('<span class=\"neighborhood\">').replace('</span>',\"\")\n",
    "    total_cases = str(row[1].find_all('span')[0]).lstrip('<span>').rstrip('</span>').replace(',',\"\")\n",
    "    cases_per_1000 =str(row[2].find_all('span')[0]).lstrip('<span>').rstrip('</span>').replace(',',\"\")\n",
    "    total_deaths = str(row[5].find_all('span')[0]).lstrip('<span>').rstrip('</span>').replace(',',\"\")\n",
    "    deaths_per_1000 = str(row[6].find_all('span')[0]).lstrip('<span>').rstrip('</span>').replace(',',\"\")\n",
    "    \n",
    "    #appends all scraped info into list\n",
    "    record = [zipcode,borough,neighborhood,total_cases,cases_per_1000,total_deaths,deaths_per_1000]\n",
    "    \n",
    "    #appends record to record_list\n",
    "    record_list.append(record)\n",
    "\n",
    "#creates dataframe\n",
    "ny_df = pd.DataFrame(record_list, columns = table_headers)\n",
    "ny_df"
   ]
  },
  {
   "cell_type": "code",
   "execution_count": null,
   "metadata": {},
   "outputs": [],
   "source": [
    "#cleaning\n",
    "ny_df.drop(ny_df[ny_df['Deaths'] == '—'].index, inplace = True)\n",
    "ny_df.columns\n",
    "ny_df = ny_df.astype({'Cases':'int32','Cases_per_10000':'int32','Deaths_per_10000': 'int32','Deaths':'int32'})"
   ]
  },
  {
   "cell_type": "code",
   "execution_count": null,
   "metadata": {},
   "outputs": [],
   "source": [
    "plt.hist(ny_df['Cases'], bins = 30)\n",
    "plt.xlabel('Cases')\n",
    "plt.ylabel('Amount of Neighborhoods')\n",
    "plt.title('Distribution of Cases in all 175 New York Neighborhoods')"
   ]
  },
  {
   "cell_type": "code",
   "execution_count": null,
   "metadata": {},
   "outputs": [],
   "source": [
    "plt.hist(ny_df['Deaths'], bins = 30)\n",
    "plt.xlabel('Deaths')\n",
    "plt.ylabel('Amount of Neighborhoods')\n",
    "plt.title('Distribution of Deaths in all 175 NY neighborhoods')"
   ]
  },
  {
   "cell_type": "code",
   "execution_count": null,
   "metadata": {},
   "outputs": [],
   "source": [
    "sns.boxplot(x = ny_df['Cases'], y = ny_df['Borough'])\n",
    "plt.title('Distribution of Cases by Borough using boxplot')"
   ]
  },
  {
   "cell_type": "code",
   "execution_count": null,
   "metadata": {},
   "outputs": [],
   "source": [
    "sns.boxplot(x = ny_df['Deaths'], y = ny_df['Borough'])\n",
    "plt.title('Distributions of Deaths by Borough using boxplot')"
   ]
  },
  {
   "cell_type": "code",
   "execution_count": null,
   "metadata": {},
   "outputs": [],
   "source": [
    "agg_df = ny_df.groupby('Borough').sum().reset_index()\n",
    "agg_df"
   ]
  },
  {
   "cell_type": "code",
   "execution_count": null,
   "metadata": {},
   "outputs": [],
   "source": [
    "plt.bar(agg_df['Borough'],agg_df['Cases_per_10000']/agg_df['Cases_per_10000'].sum())"
   ]
  },
  {
   "cell_type": "code",
   "execution_count": null,
   "metadata": {},
   "outputs": [],
   "source": [
    "plt.bar(agg_df['Borough'],agg_df['Cases']/agg_df['Cases'].sum())"
   ]
  }
 ],
 "metadata": {
  "kernelspec": {
   "display_name": "Python 3",
   "language": "python",
   "name": "python3"
  },
  "language_info": {
   "codemirror_mode": {
    "name": "ipython",
    "version": 3
   },
   "file_extension": ".py",
   "mimetype": "text/x-python",
   "name": "python",
   "nbconvert_exporter": "python",
   "pygments_lexer": "ipython3",
   "version": "3.7.6"
  }
 },
 "nbformat": 4,
 "nbformat_minor": 4
}
