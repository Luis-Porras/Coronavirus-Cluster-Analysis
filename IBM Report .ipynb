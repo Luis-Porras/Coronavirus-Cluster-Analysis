{
    "cells": [
        {
            "cell_type": "markdown",
            "metadata": {
                "collapsed": true
            },
            "source": "### 1. Introduction\n\n\n#### 1.1 Background \nThe coronavirus has drastically changed the way we live in just a matter of weeks. Masks are necessary to enter most shops and restaurants, people are asked to keep 6-feet away from each other, and even a light cough in public draws overcritical stares from everyone around. 3 months into quarantine, many states' outbreak numbers have not gone down by much, and in some cases, have actually increased. The coronavirus also continues to wreck havoc on our nation's economy, with millions of new people filing for unemployment every month, and thousands of small businesses closing all over the country. \n\n#### 1.2 Interest\n\nOf all the cities affected by the pandemic, New York has remained at the forefront of news headlines for its shocking amount of infected cases and climbing death toll. New York Governor Cuomo stated in his coronavirus briefing on May 20th, \"You tell me the zip codes that have the predominantly minority community, lower income community. I will tell you the communities where you're going to have a higher positive and you're going to have increased spread and you're going to have increased hospitalization\".  This project aims to see if there is a relationship between neighborhood demographics and coronavirus outbreaks. \n\n\n### 2.Data \n\n#### 2.1 Data Sources \nThe Foursquare API will be used to cluster neighborhoods using a variety of different features regarding neighborhood venues. This project requires much more detailed information regarding the demographics of the neighborhood, and for this reason, a New York Census dataset from Kaggle will be used. Lastly, I will be using a dataset found on github which includes coordinates of coronavirus outbreaks in New York City, and map those to the clustered neighborhoods. Using these 3 sources of data will give me enough information to engineer new features, create exploratory visualizations, and hopefully come to a conclusion which relates neighborhood demographics to outbreak numbers. \n\nFoursquare API: foursquare.com \n\nNew York Census: https://www.kaggle.com/muonneutrino/new-york-city-census-data?select=nyc_census_tracts.csv  \n\nWorld-wide Coronavirus Outbreaks: https://raw.githubusercontent.com/beoutbreakprepared/nCoV2019/master/covid19/raw-data/outside-hubei.csv\n"
        },
        {
            "cell_type": "code",
            "execution_count": null,
            "metadata": {},
            "outputs": [],
            "source": ""
        },
        {
            "cell_type": "code",
            "execution_count": null,
            "metadata": {},
            "outputs": [],
            "source": ""
        },
        {
            "cell_type": "code",
            "execution_count": null,
            "metadata": {},
            "outputs": [],
            "source": ""
        },
        {
            "cell_type": "code",
            "execution_count": null,
            "metadata": {},
            "outputs": [],
            "source": ""
        },
        {
            "cell_type": "code",
            "execution_count": null,
            "metadata": {},
            "outputs": [],
            "source": ""
        }
    ],
    "metadata": {
        "kernelspec": {
            "display_name": "Python 3.6",
            "language": "python",
            "name": "python3"
        },
        "language_info": {
            "codemirror_mode": {
                "name": "ipython",
                "version": 3
            },
            "file_extension": ".py",
            "mimetype": "text/x-python",
            "name": "python",
            "nbconvert_exporter": "python",
            "pygments_lexer": "ipython3",
            "version": "3.6.9"
        }
    },
    "nbformat": 4,
    "nbformat_minor": 1
}